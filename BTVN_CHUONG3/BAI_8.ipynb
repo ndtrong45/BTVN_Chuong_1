{
 "cells": [
  {
   "cell_type": "code",
   "execution_count": 1,
   "metadata": {},
   "outputs": [],
   "source": [
    "import numpy as np"
   ]
  },
  {
   "cell_type": "code",
   "execution_count": 3,
   "metadata": {},
   "outputs": [
    {
     "name": "stdout",
     "output_type": "stream",
     "text": [
      "Kiểu dữ liệu của np_positions: <U2\n",
      "Kiểu dữ liệu của np_heights: float64\n",
      "\n",
      "Chiều cao trung bình của các GK: 73.0\n",
      "Chiều cao trung bình của các vị trí khác (không phải 'GK'): 70.85714285714286\n",
      "\n",
      "Mảng players:\n",
      "[('GK', 72.) ('M', 68.) ('A', 75.) ('D', 70.) ('GK', 74.) ('M', 69.)\n",
      " ('A', 76.) ('GK', 73.) ('D', 71.) ('M', 67.)]\n",
      "\n",
      "Vị trí có chiều cao cao nhất: ('A', 76.0)\n",
      "Vị trí có chiều cao thấp nhất: ('M', 67.0)\n"
     ]
    }
   ],
   "source": [
    "\n",
    "positions = ['GK', 'M', 'A', 'D', 'GK', 'M', 'A', 'GK', 'D', 'M']\n",
    "heights = [72, 68, 75, 70, 74, 69, 76, 73, 71, 67]\n",
    "\n",
    "np_positions = np.array(positions)\n",
    "print(\"Kiểu dữ liệu của np_positions:\", np_positions.dtype)\n",
    "\n",
    "np_heights = np.array(heights, dtype=float)  \n",
    "print(\"Kiểu dữ liệu của np_heights:\", np_heights.dtype)\n",
    "\n",
    "gk_heights = np_heights[np_positions == 'GK']\n",
    "avg_gk_height = np.mean(gk_heights)\n",
    "print(\"\\nChiều cao trung bình của các GK:\", avg_gk_height)\n",
    "\n",
    "non_gk_heights = np_heights[np_positions != 'GK']\n",
    "avg_non_gk_height = np.mean(non_gk_heights)\n",
    "print(\"Chiều cao trung bình của các vị trí khác (không phải 'GK'):\", avg_non_gk_height)\n",
    "\n",
    "players = np.array([(pos, height) for pos, height in zip(np_positions, np_heights)], dtype=[('position', 'U10'), ('height', 'f4')])\n",
    "print(\"\\nMảng players:\")\n",
    "print(players)\n",
    "\n",
    "sorted_players = np.sort(players, order='height')\n",
    "\n",
    "highest_player = sorted_players[-1]  \n",
    "\n",
    "lowest_player = sorted_players[0]   \n",
    "\n",
    "print(\"\\nVị trí có chiều cao cao nhất:\", highest_player)\n",
    "print(\"Vị trí có chiều cao thấp nhất:\", lowest_player)\n"
   ]
  }
 ],
 "metadata": {
  "kernelspec": {
   "display_name": "Python 3",
   "language": "python",
   "name": "python3"
  },
  "language_info": {
   "codemirror_mode": {
    "name": "ipython",
    "version": 3
   },
   "file_extension": ".py",
   "mimetype": "text/x-python",
   "name": "python",
   "nbconvert_exporter": "python",
   "pygments_lexer": "ipython3",
   "version": "3.12.5"
  }
 },
 "nbformat": 4,
 "nbformat_minor": 2
}
