{
 "cells": [
  {
   "cell_type": "code",
   "execution_count": 1,
   "metadata": {},
   "outputs": [],
   "source": [
    "import numpy as np"
   ]
  },
  {
   "cell_type": "code",
   "execution_count": 4,
   "metadata": {},
   "outputs": [
    {
     "name": "stdout",
     "output_type": "stream",
     "text": [
      "arr_c (giao của arr_a và arr_b): [2 4]\n",
      "arr_d (phần tử chỉ có ở arr_a): [1 3 5 6]\n",
      "arr_f (phần tử từ 5 đến 10 trong arr_e): [ 6  9 10  8  6]\n"
     ]
    }
   ],
   "source": [
    "arr_a = np.array([1, 2, 3, 2, 3, 4, 3, 4, 5, 6])\n",
    "arr_b = np.array([7, 2, 10, 2, 7, 4, 9, 4, 9, 8])\n",
    "\n",
    "arr_c = np.intersect1d(arr_a, arr_b)\n",
    "print(\"arr_c (giao của arr_a và arr_b):\", arr_c)\n",
    "\n",
    "arr_d = np.setdiff1d(arr_a, arr_b)\n",
    "print(\"arr_d (phần tử chỉ có ở arr_a):\", arr_d)\n",
    "\n",
    "arr_e = np.array([2, 6, 1, 9, 10, 3, 27, 8, 6, 25, 16])\n",
    "arr_f = arr_e[(arr_e >= 5) & (arr_e <= 10)]\n",
    "print(\"arr_f (phần tử từ 5 đến 10 trong arr_e):\", arr_f)\n"
   ]
  }
 ],
 "metadata": {
  "kernelspec": {
   "display_name": "Python 3",
   "language": "python",
   "name": "python3"
  },
  "language_info": {
   "codemirror_mode": {
    "name": "ipython",
    "version": 3
   },
   "file_extension": ".py",
   "mimetype": "text/x-python",
   "name": "python",
   "nbconvert_exporter": "python",
   "pygments_lexer": "ipython3",
   "version": "3.12.5"
  }
 },
 "nbformat": 4,
 "nbformat_minor": 2
}
