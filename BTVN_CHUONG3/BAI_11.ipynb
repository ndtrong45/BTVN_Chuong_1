{
 "cells": [
  {
   "cell_type": "code",
   "execution_count": 2,
   "metadata": {},
   "outputs": [],
   "source": [
    "import pandas as pd\n",
    "import numpy as np\n",
    "\n",
    "\n",
    "stocks1_data = {\n",
    "    'date': pd.date_range(start='2022-01-01', periods=5, freq='D'),\n",
    "    'symbol': ['AAPL', 'AAPL', 'GOOG', 'GOOG', 'MSFT'],\n",
    "    'open': [150, 155, 2800, 2850, 300],\n",
    "    'high': [155, 160, 2850, 2900, 310],\n",
    "    'low': [148, 153, 2750, 2800, 290],\n",
    "    'close': [153, 158, 2800, 2880, 305],\n",
    "    'volume': [1000000, 1100000, 1200000, 1300000, 1400000]\n",
    "}\n",
    "\n",
    "stocks1 = pd.DataFrame(stocks1_data)\n",
    "stocks1.to_csv('stocks1.csv', index=False)\n",
    "\n",
    "\n",
    "stocks2_data = {\n",
    "    'date': pd.date_range(start='2022-01-06', periods=5, freq='D'),\n",
    "    'symbol': ['AAPL', 'MSFT', 'GOOG', 'AAPL', 'GOOG'],\n",
    "    'open': [155, 305, 2900, 160, 2830],\n",
    "    'high': [160, 310, 2950, 165, 2900],\n",
    "    'low': [153, 295, 2850, 158, 2800],\n",
    "    'close': [158, 308, 2920, 162, 2860],\n",
    "    'volume': [1500000, 1600000, 1700000, 1800000, 1900000]\n",
    "}\n",
    "\n",
    "stocks2 = pd.DataFrame(stocks2_data)\n",
    "stocks2.to_csv('stocks2.csv', index=False)\n",
    "\n",
    "\n",
    "companies_data = {\n",
    "    'name': ['AAPL', 'MSFT', 'GOOG'],\n",
    "    'employees': [100000, 180000, 150000],\n",
    "    'headquarters_city': ['Cupertino', 'Redmond', 'Mountain View'],\n",
    "    'headquarters_state': ['California', 'Washington', 'California']\n",
    "}\n",
    "\n",
    "companies = pd.DataFrame(companies_data)\n",
    "companies.to_csv('companies.csv', index=False)\n",
    "\n"
   ]
  },
  {
   "cell_type": "code",
   "execution_count": 3,
   "metadata": {},
   "outputs": [
    {
     "name": "stdout",
     "output_type": "stream",
     "text": [
      "5 dòng đầu của stocks1:\n",
      "         date symbol  open  high   low  close   volume\n",
      "0  2022-01-01   AAPL   150   155   148    153  1000000\n",
      "1  2022-01-02   AAPL   155   160   153    158  1100000\n",
      "2  2022-01-03   GOOG  2800  2850  2750   2800  1200000\n",
      "3  2022-01-04   GOOG  2850  2900  2800   2880  1300000\n",
      "4  2022-01-05   MSFT   300   310   290    305  1400000\n",
      "\n",
      "Kiểu dữ liệu của các cột trong stocks1:\n",
      "date      object\n",
      "symbol    object\n",
      "open       int64\n",
      "high       int64\n",
      "low        int64\n",
      "close      int64\n",
      "volume     int64\n",
      "dtype: object\n",
      "\n",
      "Thông tin của stocks1:\n",
      "<class 'pandas.core.frame.DataFrame'>\n",
      "RangeIndex: 5 entries, 0 to 4\n",
      "Data columns (total 7 columns):\n",
      " #   Column  Non-Null Count  Dtype \n",
      "---  ------  --------------  ----- \n",
      " 0   date    5 non-null      object\n",
      " 1   symbol  5 non-null      object\n",
      " 2   open    5 non-null      int64 \n",
      " 3   high    5 non-null      int64 \n",
      " 4   low     5 non-null      int64 \n",
      " 5   close   5 non-null      int64 \n",
      " 6   volume  5 non-null      int64 \n",
      "dtypes: int64(5), object(2)\n",
      "memory usage: 412.0+ bytes\n",
      "None\n",
      "\n",
      "5 dòng đầu của stocks2:\n",
      "         date symbol  open  high   low  close   volume\n",
      "0  2022-01-06   AAPL   155   160   153    158  1500000\n",
      "1  2022-01-07   MSFT   305   310   295    308  1600000\n",
      "2  2022-01-08   GOOG  2900  2950  2850   2920  1700000\n",
      "3  2022-01-09   AAPL   160   165   158    162  1800000\n",
      "4  2022-01-10   GOOG  2830  2900  2800   2860  1900000\n",
      "\n",
      "Kiểu dữ liệu của các cột trong stocks2:\n",
      "date      object\n",
      "symbol    object\n",
      "open       int64\n",
      "high       int64\n",
      "low        int64\n",
      "close      int64\n",
      "volume     int64\n",
      "dtype: object\n",
      "\n",
      "Thông tin của stocks2:\n",
      "<class 'pandas.core.frame.DataFrame'>\n",
      "RangeIndex: 5 entries, 0 to 4\n",
      "Data columns (total 7 columns):\n",
      " #   Column  Non-Null Count  Dtype \n",
      "---  ------  --------------  ----- \n",
      " 0   date    5 non-null      object\n",
      " 1   symbol  5 non-null      object\n",
      " 2   open    5 non-null      int64 \n",
      " 3   high    5 non-null      int64 \n",
      " 4   low     5 non-null      int64 \n",
      " 5   close   5 non-null      int64 \n",
      " 6   volume  5 non-null      int64 \n",
      "dtypes: int64(5), object(2)\n",
      "memory usage: 412.0+ bytes\n",
      "None\n",
      "\n",
      "Dữ liệu của companies:\n",
      "   name  employees headquarters_city headquarters_state\n",
      "0  AAPL     100000         Cupertino         California\n",
      "1  MSFT     180000           Redmond         Washington\n",
      "2  GOOG     150000     Mountain View         California\n",
      "\n",
      "Kiểu dữ liệu của các cột trong companies:\n",
      "name                  object\n",
      "employees              int64\n",
      "headquarters_city     object\n",
      "headquarters_state    object\n",
      "dtype: object\n",
      "\n",
      "Thông tin của companies:\n",
      "<class 'pandas.core.frame.DataFrame'>\n",
      "RangeIndex: 3 entries, 0 to 2\n",
      "Data columns (total 4 columns):\n",
      " #   Column              Non-Null Count  Dtype \n",
      "---  ------              --------------  ----- \n",
      " 0   name                3 non-null      object\n",
      " 1   employees           3 non-null      int64 \n",
      " 2   headquarters_city   3 non-null      object\n",
      " 3   headquarters_state  3 non-null      object\n",
      "dtypes: int64(1), object(3)\n",
      "memory usage: 228.0+ bytes\n",
      "None\n"
     ]
    }
   ],
   "source": [
    "\n",
    "stocks1 = pd.read_csv('stocks1.csv')\n",
    "print(\"5 dòng đầu của stocks1:\")\n",
    "print(stocks1.head())\n",
    "print(\"\\nKiểu dữ liệu của các cột trong stocks1:\")\n",
    "print(stocks1.dtypes)\n",
    "print(\"\\nThông tin của stocks1:\")\n",
    "print(stocks1.info())\n",
    "\n",
    "\n",
    "stocks2 = pd.read_csv('stocks2.csv')\n",
    "print(\"\\n5 dòng đầu của stocks2:\")\n",
    "print(stocks2.head())\n",
    "print(\"\\nKiểu dữ liệu của các cột trong stocks2:\")\n",
    "print(stocks2.dtypes)\n",
    "print(\"\\nThông tin của stocks2:\")\n",
    "print(stocks2.info())\n",
    "\n",
    "\n",
    "companies = pd.read_csv('companies.csv')\n",
    "print(\"\\nDữ liệu của companies:\")\n",
    "print(companies)\n",
    "print(\"\\nKiểu dữ liệu của các cột trong companies:\")\n",
    "print(companies.dtypes)\n",
    "print(\"\\nThông tin của companies:\")\n",
    "print(companies.info())\n"
   ]
  },
  {
   "cell_type": "code",
   "execution_count": 4,
   "metadata": {},
   "outputs": [
    {
     "name": "stdout",
     "output_type": "stream",
     "text": [
      "\n",
      "Kiểm tra dữ liệu Null trong stocks1:\n",
      "date      0\n",
      "symbol    0\n",
      "open      0\n",
      "high      0\n",
      "low       0\n",
      "close     0\n",
      "volume    0\n",
      "dtype: int64\n",
      "\n",
      "Kiểm tra lại dữ liệu Null sau khi thay thế:\n",
      "date      0\n",
      "symbol    0\n",
      "open      0\n",
      "high      0\n",
      "low       0\n",
      "close     0\n",
      "volume    0\n",
      "dtype: int64\n"
     ]
    }
   ],
   "source": [
    "print(\"\\nKiểm tra dữ liệu Null trong stocks1:\")\n",
    "print(stocks1.isnull().sum())\n",
    "\n",
    "stocks1['high'] = stocks1.groupby('symbol')['high'].transform(lambda x: x.fillna(x.max()))\n",
    "\n",
    "stocks1['low'] = stocks1.groupby('symbol')['low'].transform(lambda x: x.fillna(x.min()))\n",
    "\n",
    "print(\"\\nKiểm tra lại dữ liệu Null sau khi thay thế:\")\n",
    "print(stocks1.isnull().sum())\n"
   ]
  },
  {
   "cell_type": "code",
   "execution_count": 5,
   "metadata": {},
   "outputs": [
    {
     "name": "stdout",
     "output_type": "stream",
     "text": [
      "\n",
      "15 dòng dữ liệu cuối của stocks:\n",
      "         date symbol  open  high   low  close   volume\n",
      "0  2022-01-01   AAPL   150   155   148    153  1000000\n",
      "1  2022-01-02   AAPL   155   160   153    158  1100000\n",
      "2  2022-01-03   GOOG  2800  2850  2750   2800  1200000\n",
      "3  2022-01-04   GOOG  2850  2900  2800   2880  1300000\n",
      "4  2022-01-05   MSFT   300   310   290    305  1400000\n",
      "5  2022-01-06   AAPL   155   160   153    158  1500000\n",
      "6  2022-01-07   MSFT   305   310   295    308  1600000\n",
      "7  2022-01-08   GOOG  2900  2950  2850   2920  1700000\n",
      "8  2022-01-09   AAPL   160   165   158    162  1800000\n",
      "9  2022-01-10   GOOG  2830  2900  2800   2860  1900000\n"
     ]
    }
   ],
   "source": [
    "stocks = pd.concat([stocks1, stocks2], axis=0, ignore_index=True)\n",
    "\n",
    "print(\"\\n15 dòng dữ liệu cuối của stocks:\")\n",
    "print(stocks.tail(15))\n"
   ]
  },
  {
   "cell_type": "code",
   "execution_count": 6,
   "metadata": {},
   "outputs": [
    {
     "name": "stdout",
     "output_type": "stream",
     "text": [
      "\n",
      "5 dòng dữ liệu đầu của stocks_companies:\n",
      "         date symbol  open  high   low  close   volume  name  employees  \\\n",
      "0  2022-01-01   AAPL   150   155   148    153  1000000  AAPL     100000   \n",
      "1  2022-01-02   AAPL   155   160   153    158  1100000  AAPL     100000   \n",
      "2  2022-01-03   GOOG  2800  2850  2750   2800  1200000  GOOG     150000   \n",
      "3  2022-01-04   GOOG  2850  2900  2800   2880  1300000  GOOG     150000   \n",
      "4  2022-01-05   MSFT   300   310   290    305  1400000  MSFT     180000   \n",
      "\n",
      "  headquarters_city headquarters_state  \n",
      "0         Cupertino         California  \n",
      "1         Cupertino         California  \n",
      "2     Mountain View         California  \n",
      "3     Mountain View         California  \n",
      "4           Redmond         Washington  \n"
     ]
    }
   ],
   "source": [
    "stocks_companies = pd.merge(stocks, companies, left_on='symbol', right_on='name', how='left')\n",
    "\n",
    "print(\"\\n5 dòng dữ liệu đầu của stocks_companies:\")\n",
    "print(stocks_companies.head())\n"
   ]
  },
  {
   "cell_type": "code",
   "execution_count": 7,
   "metadata": {},
   "outputs": [
    {
     "name": "stdout",
     "output_type": "stream",
     "text": [
      "\n",
      "Giá trung bình của các cột cho mỗi công ty:\n",
      "          open    high     low    close     volume\n",
      "symbol                                            \n",
      "AAPL     155.0   160.0   153.0   157.75  1350000.0\n",
      "GOOG    2845.0  2900.0  2800.0  2865.00  1525000.0\n",
      "MSFT     302.5   310.0   292.5   306.50  1500000.0\n"
     ]
    }
   ],
   "source": [
    "avg_values_by_company = stocks_companies.groupby('symbol')[['open', 'high', 'low', 'close', 'volume']].mean()\n",
    "print(\"\\nGiá trung bình của các cột cho mỗi công ty:\")\n",
    "print(avg_values_by_company)\n"
   ]
  },
  {
   "cell_type": "code",
   "execution_count": 8,
   "metadata": {},
   "outputs": [
    {
     "name": "stdout",
     "output_type": "stream",
     "text": [
      "\n",
      "Giá đóng cửa (close) trung bình, lớn nhất và nhỏ nhất cho mỗi công ty:\n",
      "           mean   max   min\n",
      "symbol                     \n",
      "AAPL     157.75   162   153\n",
      "GOOG    2865.00  2920  2800\n",
      "MSFT     306.50   308   305\n"
     ]
    }
   ],
   "source": [
    "close_stats_by_company = stocks_companies.groupby('symbol')['close'].agg(['mean', 'max', 'min'])\n",
    "print(\"\\nGiá đóng cửa (close) trung bình, lớn nhất và nhỏ nhất cho mỗi công ty:\")\n",
    "print(close_stats_by_company)\n"
   ]
  },
  {
   "cell_type": "code",
   "execution_count": 9,
   "metadata": {},
   "outputs": [
    {
     "name": "stdout",
     "output_type": "stream",
     "text": [
      "\n",
      "Kiểu dữ liệu của cột 'parsed_time':\n",
      "datetime64[ns]\n",
      "\n",
      "5 dòng dữ liệu đầu của stocks_companies sau khi thêm cột 'parsed_time':\n",
      "         date symbol  open  high   low  close   volume  name  employees  \\\n",
      "0  2022-01-01   AAPL   150   155   148    153  1000000  AAPL     100000   \n",
      "1  2022-01-02   AAPL   155   160   153    158  1100000  AAPL     100000   \n",
      "2  2022-01-03   GOOG  2800  2850  2750   2800  1200000  GOOG     150000   \n",
      "3  2022-01-04   GOOG  2850  2900  2800   2880  1300000  GOOG     150000   \n",
      "4  2022-01-05   MSFT   300   310   290    305  1400000  MSFT     180000   \n",
      "\n",
      "  headquarters_city headquarters_state parsed_time  \n",
      "0         Cupertino         California  2022-01-01  \n",
      "1         Cupertino         California  2022-01-02  \n",
      "2     Mountain View         California  2022-01-03  \n",
      "3     Mountain View         California  2022-01-04  \n",
      "4           Redmond         Washington  2022-01-05  \n"
     ]
    }
   ],
   "source": [
    "stocks_companies['parsed_time'] = pd.to_datetime(stocks_companies['date'])\n",
    "\n",
    "print(\"\\nKiểu dữ liệu của cột 'parsed_time':\")\n",
    "print(stocks_companies['parsed_time'].dtype)\n",
    "\n",
    "print(\"\\n5 dòng dữ liệu đầu của stocks_companies sau khi thêm cột 'parsed_time':\")\n",
    "print(stocks_companies.head())\n"
   ]
  },
  {
   "cell_type": "code",
   "execution_count": 10,
   "metadata": {},
   "outputs": [
    {
     "name": "stdout",
     "output_type": "stream",
     "text": [
      "\n",
      "5 dòng dữ liệu đầu của stocks_companies sau khi thêm cột 'result':\n",
      "         date symbol  open  high   low  close   volume  name  employees  \\\n",
      "0  2022-01-01   AAPL   150   155   148    153  1000000  AAPL     100000   \n",
      "1  2022-01-02   AAPL   155   160   153    158  1100000  AAPL     100000   \n",
      "2  2022-01-03   GOOG  2800  2850  2750   2800  1200000  GOOG     150000   \n",
      "3  2022-01-04   GOOG  2850  2900  2800   2880  1300000  GOOG     150000   \n",
      "4  2022-01-05   MSFT   300   310   290    305  1400000  MSFT     180000   \n",
      "\n",
      "  headquarters_city headquarters_state parsed_time result  \n",
      "0         Cupertino         California  2022-01-01     up  \n",
      "1         Cupertino         California  2022-01-02     up  \n",
      "2     Mountain View         California  2022-01-03   down  \n",
      "3     Mountain View         California  2022-01-04     up  \n",
      "4           Redmond         Washington  2022-01-05     up  \n"
     ]
    }
   ],
   "source": [
    "stocks_companies['result'] = ['up' if close > open else 'down' for close, open in zip(stocks_companies['close'], stocks_companies['open'])]\n",
    "\n",
    "print(\"\\n5 dòng dữ liệu đầu của stocks_companies sau khi thêm cột 'result':\")\n",
    "print(stocks_companies.head())\n"
   ]
  }
 ],
 "metadata": {
  "kernelspec": {
   "display_name": "Python 3",
   "language": "python",
   "name": "python3"
  },
  "language_info": {
   "codemirror_mode": {
    "name": "ipython",
    "version": 3
   },
   "file_extension": ".py",
   "mimetype": "text/x-python",
   "name": "python",
   "nbconvert_exporter": "python",
   "pygments_lexer": "ipython3",
   "version": "3.12.5"
  }
 },
 "nbformat": 4,
 "nbformat_minor": 2
}
