{
 "cells": [
  {
   "cell_type": "code",
   "execution_count": 1,
   "metadata": {},
   "outputs": [],
   "source": [
    "import numpy as np"
   ]
  },
  {
   "cell_type": "code",
   "execution_count": 5,
   "metadata": {},
   "outputs": [
    {
     "name": "stdout",
     "output_type": "stream",
     "text": [
      "arr:\n",
      " [[ True  True  True]\n",
      " [ True  True  True]\n",
      " [ True  True  True]]\n",
      "arr_2D sau khi đổi cột:\n",
      " [[2 1 0]\n",
      " [5 4 3]\n",
      " [8 7 6]]\n",
      "arr_2D sau khi đổi dòng:\n",
      " [[5 4 3]\n",
      " [2 1 0]\n",
      " [8 7 6]]\n",
      "arr_2D sau khi đảo ngược dòng:\n",
      " [[8 7 6]\n",
      " [2 1 0]\n",
      " [5 4 3]]\n",
      "arr_2D sau khi đảo ngược cột:\n",
      " [[6 7 8]\n",
      " [0 1 2]\n",
      " [3 4 5]]\n",
      "Có giá trị NaN trong arr_2D_null không? True\n",
      "arr_2D_null sau khi thay thế NaN:\n",
      " [[1. 2. 3.]\n",
      " [0. 5. 6.]\n",
      " [7. 0. 9.]\n",
      " [4. 5. 6.]]\n"
     ]
    }
   ],
   "source": [
    "arr = np.full((3, 3), True)\n",
    "print(\"arr:\\n\", arr)\n",
    "\n",
    "arr_ID = np.array([0, 1, 2, 3, 4, 5, 6, 7, 8])\n",
    "arr_2D = arr_ID.reshape(3, 3)\n",
    "arr_2D[:, [0, 2]] = arr_2D[:, [2, 0]]\n",
    "print(\"arr_2D sau khi đổi cột:\\n\", arr_2D)\n",
    "\n",
    "arr_2D[[0, 1], :] = arr_2D[[1, 0], :]\n",
    "print(\"arr_2D sau khi đổi dòng:\\n\", arr_2D)\n",
    "\n",
    "arr_2D = np.flip(arr_2D, axis=0)\n",
    "print(\"arr_2D sau khi đảo ngược dòng:\\n\", arr_2D)\n",
    "\n",
    "arr_2D = np.flip(arr_2D, axis=1)\n",
    "print(\"arr_2D sau khi đảo ngược cột:\\n\", arr_2D)\n",
    "\n",
    "arr_2D_null = np.array([[1, 2, 3], [np.nan, 5, 6], [7, np.nan, 9], [4, 5, 6]])\n",
    "print(\"Có giá trị NaN trong arr_2D_null không?\", np.isnan(arr_2D_null).any())\n",
    "\n",
    "arr_2D_null[np.isnan(arr_2D_null)] = 0\n",
    "print(\"arr_2D_null sau khi thay thế NaN:\\n\", arr_2D_null)"
   ]
  }
 ],
 "metadata": {
  "kernelspec": {
   "display_name": "Python 3",
   "language": "python",
   "name": "python3"
  },
  "language_info": {
   "codemirror_mode": {
    "name": "ipython",
    "version": 3
   },
   "file_extension": ".py",
   "mimetype": "text/x-python",
   "name": "python",
   "nbconvert_exporter": "python",
   "pygments_lexer": "ipython3",
   "version": "3.12.5"
  }
 },
 "nbformat": 4,
 "nbformat_minor": 2
}
