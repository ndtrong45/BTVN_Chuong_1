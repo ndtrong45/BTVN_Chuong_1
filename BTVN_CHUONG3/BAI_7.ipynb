{
 "cells": [
  {
   "cell_type": "code",
   "execution_count": 4,
   "metadata": {},
   "outputs": [],
   "source": [
    "import numpy as np"
   ]
  },
  {
   "cell_type": "code",
   "execution_count": 8,
   "metadata": {},
   "outputs": [
    {
     "name": "stdout",
     "output_type": "stream",
     "text": [
      "Kiểu dữ liệu của np_baseball: int64\n",
      "Kích thước của np_baseball: (30, 2)\n",
      "\n",
      "Dữ liệu không đủ để truy cập dòng thứ 50.\n",
      "\n",
      "Cân nặng của các cầu thủ (np_weight): [180 175 160 200 170 185 195 210 205 190 185 195 180 210 165 200 185 220\n",
      " 185 215 175 180 200 185 195 190 195 210 215 200]\n",
      "\n",
      "Dữ liệu không đủ để truy cập vận động viên thứ 124.\n",
      "\n",
      "Chiều cao trung bình của các cầu thủ: 74.16666666666667\n",
      "Cân nặng trung bình của các cầu thủ: 191.83333333333334\n",
      "\n",
      "Hệ số tương quan giữa chiều cao và cân nặng: 0.8204685330272159\n",
      "Có tương quan thuận giữa chiều cao và cân nặng.\n"
     ]
    }
   ],
   "source": [
    "baseball = [\n",
    "    [74, 180], [69, 175], [72, 160], [76, 200], [71, 170],\n",
    "    [75, 185], [78, 195], [80, 210], [79, 205], [72, 190],\n",
    "    [73, 185], [76, 195], [70, 180], [74, 210], [68, 165],\n",
    "    [75, 200], [71, 185], [78, 220], [72, 185], [77, 215],\n",
    "    [69, 175], [71, 180], [74, 200], [75, 185], [76, 195],\n",
    "    [72, 190], [73, 195], [78, 210], [80, 215], [77, 200],\n",
    "    \n",
    "]\n",
    "\n",
    "np_baseball = np.array(baseball)\n",
    "\n",
    "print(\"Kiểu dữ liệu của np_baseball:\", np_baseball.dtype)\n",
    "print(\"Kích thước của np_baseball:\", np_baseball.shape)\n",
    "\n",
    "if np_baseball.shape[0] > 50:\n",
    "    print(\"\\nGiá trị của dòng thứ 50:\", np_baseball[50])\n",
    "else:\n",
    "    print(\"\\nDữ liệu không đủ để truy cập dòng thứ 50.\")\n",
    "\n",
    "np_weight = np_baseball[:, 1]\n",
    "print(\"\\nCân nặng của các cầu thủ (np_weight):\", np_weight)\n",
    "\n",
    "if np_baseball.shape[0] > 123:\n",
    "    print(\"\\nChiều cao của vận động viên thứ 124:\", np_baseball[123, 0])  \n",
    "else:\n",
    "    print(\"\\nDữ liệu không đủ để truy cập vận động viên thứ 124.\")\n",
    "\n",
    "avg_height = np.mean(np_baseball[:, 0])  \n",
    "avg_weight = np.mean(np_baseball[:, 1])  \n",
    "print(\"\\nChiều cao trung bình của các cầu thủ:\", avg_height)\n",
    "print(\"Cân nặng trung bình của các cầu thủ:\", avg_weight)\n",
    "\n",
    "correlation = np.corrcoef(np_baseball[:, 0], np_baseball[:, 1])[0, 1]\n",
    "print(\"\\nHệ số tương quan giữa chiều cao và cân nặng:\", correlation)\n",
    "\n",
    "if correlation > 0:\n",
    "    print(\"Có tương quan thuận giữa chiều cao và cân nặng.\")\n",
    "elif correlation < 0:\n",
    "    print(\"Có tương quan nghịch giữa chiều cao và cân nặng.\")\n",
    "else:\n",
    "    print(\"Không có tương quan giữa chiều cao và cân nặng.\")\n"
   ]
  }
 ],
 "metadata": {
  "kernelspec": {
   "display_name": "Python 3",
   "language": "python",
   "name": "python3"
  },
  "language_info": {
   "codemirror_mode": {
    "name": "ipython",
    "version": 3
   },
   "file_extension": ".py",
   "mimetype": "text/x-python",
   "name": "python",
   "nbconvert_exporter": "python",
   "pygments_lexer": "ipython3",
   "version": "3.12.5"
  }
 },
 "nbformat": 4,
 "nbformat_minor": 2
}
