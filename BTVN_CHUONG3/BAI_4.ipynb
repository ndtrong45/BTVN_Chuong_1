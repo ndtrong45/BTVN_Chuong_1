{
 "cells": [
  {
   "cell_type": "code",
   "execution_count": 1,
   "metadata": {},
   "outputs": [],
   "source": [
    "import numpy as np"
   ]
  },
  {
   "cell_type": "code",
   "execution_count": 2,
   "metadata": {},
   "outputs": [
    {
     "name": "stdout",
     "output_type": "stream",
     "text": [
      "arr_zeros: [0. 0. 0. 0. 0. 1. 0. 0. 0. 0.]\n"
     ]
    }
   ],
   "source": [
    "arr_zeros = np.zeros(10)\n",
    "\n",
    "arr_zeros[5] = 1\n",
    "\n",
    "print(\"arr_zeros:\", arr_zeros)"
   ]
  },
  {
   "cell_type": "code",
   "execution_count": 3,
   "metadata": {},
   "outputs": [
    {
     "name": "stdout",
     "output_type": "stream",
     "text": [
      "arr_h (đảo ngược): [24 23 22 21 20 19 18 17 16 15 14 13 12 11 10]\n"
     ]
    }
   ],
   "source": [
    "arr_h = np.arange(10, 25)\n",
    "\n",
    "print(\"arr_h (đảo ngược):\", arr_h[::-1])\n"
   ]
  },
  {
   "cell_type": "code",
   "execution_count": 5,
   "metadata": {},
   "outputs": [
    {
     "name": "stdout",
     "output_type": "stream",
     "text": [
      "arr_1 (các phần tử khác 0): [1 2 8 2 1 3 5]\n"
     ]
    }
   ],
   "source": [
    "\n",
    "arr_k = np.array([1, 2, 0, 8, 2, 0, 1, 3, 0, 5, 0])\n",
    "\n",
    "arr_1 = arr_k[arr_k != 0]\n",
    "\n",
    "print(\"arr_1 (các phần tử khác 0):\", arr_1)"
   ]
  },
  {
   "cell_type": "code",
   "execution_count": 6,
   "metadata": {},
   "outputs": [
    {
     "name": "stdout",
     "output_type": "stream",
     "text": [
      "arr_k sau khi thêm 10 và 20: [ 1  2  0  8  2  0  1  3  0  5  0 10 20]\n"
     ]
    }
   ],
   "source": [
    "arr_k = np.append(arr_k, [10, 20])\n",
    "\n",
    "print(\"arr_k sau khi thêm 10 và 20:\", arr_k)\n"
   ]
  },
  {
   "cell_type": "code",
   "execution_count": 9,
   "metadata": {},
   "outputs": [
    {
     "name": "stdout",
     "output_type": "stream",
     "text": [
      "arr_k sau khi thêm 100 vào index 5: [  8   2 100   0   1 100   3   0   5   0  10  20]\n"
     ]
    }
   ],
   "source": [
    "arr_k = np.insert(arr_k, 5, 100)\n",
    "\n",
    "print(\"arr_k sau khi thêm 100 vào index 5:\", arr_k)\n"
   ]
  },
  {
   "cell_type": "code",
   "execution_count": 10,
   "metadata": {},
   "outputs": [
    {
     "name": "stdout",
     "output_type": "stream",
     "text": [
      "arr_k sau khi xóa các phần tử ở index 0, 1, 2: [  0   1 100   3   0   5   0  10  20]\n"
     ]
    }
   ],
   "source": [
    "arr_k = np.delete(arr_k, [0, 1, 2])\n",
    "\n",
    "print(\"arr_k sau khi xóa các phần tử ở index 0, 1, 2:\", arr_k)\n"
   ]
  }
 ],
 "metadata": {
  "kernelspec": {
   "display_name": "Python 3",
   "language": "python",
   "name": "python3"
  },
  "language_info": {
   "codemirror_mode": {
    "name": "ipython",
    "version": 3
   },
   "file_extension": ".py",
   "mimetype": "text/x-python",
   "name": "python",
   "nbconvert_exporter": "python",
   "pygments_lexer": "ipython3",
   "version": "3.12.5"
  }
 },
 "nbformat": 4,
 "nbformat_minor": 2
}
