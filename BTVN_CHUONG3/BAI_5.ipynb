{
 "cells": [
  {
   "cell_type": "code",
   "execution_count": 1,
   "metadata": {},
   "outputs": [],
   "source": [
    "import numpy as np "
   ]
  },
  {
   "cell_type": "code",
   "execution_count": 3,
   "metadata": {},
   "outputs": [
    {
     "name": "stdout",
     "output_type": "stream",
     "text": [
      "Chiều cao (m): [1.8796 1.7526 1.8288 1.9304 1.8034 1.905  1.9812 2.032  2.0066 1.8288]\n",
      "Cân nặng (kg): [81.64656 79.3786  72.57472 90.7184  77.11064 83.91452 88.45044 95.25432\n",
      " 92.98636 86.18248]\n",
      "BMI của các cầu thủ: [23.11037639 25.84269609 21.69966068 24.34449467 23.70992483 23.12315842\n",
      " 22.53426302 23.06945176 23.09391864 25.76834706]\n",
      "Cân nặng ở index 5: 83.91452\n",
      "Chiều cao từ index 100 đến 110: []\n",
      "Các cầu thủ có BMI < 21: []\n",
      "Chiều cao trung bình (m): 1.8948399999999999\n",
      "Cân nặng trung bình (kg): 84.821704\n",
      "Chiều cao lớn nhất (m): 2.032\n",
      "Cân nặng lớn nhất (kg): 95.25431999999999\n",
      "Chiều cao nhỏ nhất (m): 1.7526\n",
      "Cân nặng nhỏ nhất (kg): 72.57472\n"
     ]
    }
   ],
   "source": [
    "height = [74, 69, 72, 76, 71, 75, 78, 80, 79, 72] \n",
    "weight = [180, 175, 160, 200, 170, 185, 195, 210, 205, 190]  \n",
    "\n",
    "arr_height = np.array(height)\n",
    "\n",
    "arr_weight = np.array(weight)\n",
    "\n",
    "conversion_factor_height = 0.0254\n",
    "arr_height_m = arr_height * conversion_factor_height\n",
    "print(\"Chiều cao (m):\", arr_height_m)\n",
    "\n",
    "conversion_factor_weight = 0.453592\n",
    "arr_weight_kg = arr_weight * conversion_factor_weight\n",
    "print(\"Cân nặng (kg):\", arr_weight_kg)\n",
    "\n",
    "arr_bmi = arr_weight_kg / (arr_height_m ** 2)\n",
    "print(\"BMI của các cầu thủ:\", arr_bmi)\n",
    "\n",
    "print(\"Cân nặng ở index 5:\", arr_weight_kg[5])\n",
    "\n",
    "arr_height_m_100 = arr_height_m[100:111]\n",
    "print(\"Chiều cao từ index 100 đến 110:\", arr_height_m_100)\n",
    "\n",
    "players_bmi_under_21 = arr_bmi[arr_bmi < 21]\n",
    "print(\"Các cầu thủ có BMI < 21:\", players_bmi_under_21)\n",
    "\n",
    "avg_height = np.mean(arr_height_m)\n",
    "avg_weight = np.mean(arr_weight_kg)\n",
    "print(\"Chiều cao trung bình (m):\", avg_height)\n",
    "print(\"Cân nặng trung bình (kg):\", avg_weight)\n",
    "\n",
    "max_height = np.max(arr_height_m)\n",
    "max_weight = np.max(arr_weight_kg)\n",
    "print(\"Chiều cao lớn nhất (m):\", max_height)\n",
    "print(\"Cân nặng lớn nhất (kg):\", max_weight)\n",
    "\n",
    "min_height = np.min(arr_height_m)\n",
    "min_weight = np.min(arr_weight_kg)\n",
    "print(\"Chiều cao nhỏ nhất (m):\", min_height)\n",
    "print(\"Cân nặng nhỏ nhất (kg):\", min_weight)\n"
   ]
  }
 ],
 "metadata": {
  "kernelspec": {
   "display_name": "Python 3",
   "language": "python",
   "name": "python3"
  },
  "language_info": {
   "codemirror_mode": {
    "name": "ipython",
    "version": 3
   },
   "file_extension": ".py",
   "mimetype": "text/x-python",
   "name": "python",
   "nbconvert_exporter": "python",
   "pygments_lexer": "ipython3",
   "version": "3.12.5"
  }
 },
 "nbformat": 4,
 "nbformat_minor": 2
}
