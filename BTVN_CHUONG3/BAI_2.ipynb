{
 "cells": [
  {
   "cell_type": "code",
   "execution_count": 4,
   "metadata": {},
   "outputs": [
    {
     "name": "stdout",
     "output_type": "stream",
     "text": [
      "arr_update_1 (lẻ thay bằng 100): [  0 100   2 100   4 100   6 100   8 100]\n"
     ]
    }
   ],
   "source": [
    "arr_update_1 = np.where(arr % 2 == 0, arr, 100)\n",
    "\n",
    "print(\"arr_update_1 (lẻ thay bằng 100):\", arr_update_1)\n"
   ]
  },
  {
   "cell_type": "code",
   "execution_count": 3,
   "metadata": {},
   "outputs": [
    {
     "name": "stdout",
     "output_type": "stream",
     "text": [
      "Các phần tử lẻ (arr_odd): [1 3 5 7 9]\n",
      "Các phần tử chẵn (arr_even): [0 2 4 6 8]\n"
     ]
    }
   ],
   "source": [
    "\n",
    "arr_odd = arr[arr % 2 != 0]\n",
    "\n",
    "arr_even = arr[arr % 2 == 0]\n",
    "\n",
    "print(\"Các phần tử lẻ (arr_odd):\", arr_odd)\n",
    "print(\"Các phần tử chẵn (arr_even):\", arr_even)\n"
   ]
  },
  {
   "cell_type": "code",
   "execution_count": 2,
   "metadata": {},
   "outputs": [
    {
     "name": "stdout",
     "output_type": "stream",
     "text": [
      "Các phần tử trong arr: [0 1 2 3 4 5 6 7 8 9]\n",
      "Kiểu dữ liệu của arr: int64\n",
      "Kích thước của arr: (10,)\n"
     ]
    }
   ],
   "source": [
    "\n",
    "arr = np.arange(10)\n",
    "\n",
    "print(\"Các phần tử trong arr:\", arr)\n",
    "\n",
    "print(\"Kiểu dữ liệu của arr:\", arr.dtype)\n",
    "\n",
    "print(\"Kích thước của arr:\", arr.shape)\n"
   ]
  },
  {
   "cell_type": "code",
   "execution_count": 1,
   "metadata": {},
   "outputs": [],
   "source": [
    "import numpy as np"
   ]
  }
 ],
 "metadata": {
  "kernelspec": {
   "display_name": "Python 3",
   "language": "python",
   "name": "python3"
  },
  "language_info": {
   "codemirror_mode": {
    "name": "ipython",
    "version": 3
   },
   "file_extension": ".py",
   "mimetype": "text/x-python",
   "name": "python",
   "nbconvert_exporter": "python",
   "pygments_lexer": "ipython3",
   "version": "3.12.5"
  }
 },
 "nbformat": 4,
 "nbformat_minor": 2
}
